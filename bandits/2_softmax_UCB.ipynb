{
 "cells": [
  {
   "cell_type": "markdown",
   "metadata": {},
   "source": [
    "Check out the demos on each of the softmax and UCB.\n",
    "\n",
    "# Exercises\n",
    "\n",
    "## Softmax\n",
    "\n",
    "1. See what happens to the Softmax algorithm if it has to explore from a set of arms that are all very similar to each and none of which stands very far out from the pack. Instead of our use of means = [0.1, 0.1, 0.1, 0.1, 0.9], try using means = [0.1, 0.1, 0.1, 0.1, 0.12]. Does the striking difference between Softmax and epsilon-Greedy go away as you change the parameters of the two algorithms?\n",
    "\n",
    "2. Can you find settings of epsilon for the epsilon-Greedy algorithm and the temperature for the Softmax algorithm that come closest to imitating one another on a fixed set of arms? What makes it difficult for these two algorithms to behave similarly?\n",
    "\n",
    "3. We used one specific annealing rule when we made the Softmax algorithm decrease its temperature setting over time. What happens when using a different rule like temperature = 1.0 / t? What happens when you change this parameter over blocks of plays so that temperature = 0.5 for the first 100 rounds and then temperature = 0.1 for the next 100 rounds? Are there general strategies for setting these parameters that seem to work well?"
   ]
  },
  {
   "cell_type": "markdown",
   "metadata": {},
   "source": [
    "## UCB\n",
    "\n",
    "* Note that the epsilon-Greedy and Softmax algorithms behave more differently in the arms in your bandit problem are very different from one another. How does the similarity between arms affect the behavior of UCB1?\n",
    "\n",
    "\n",
    "* Would the UCB1 algorithm perform better or worse if there were more arms? Assuming a horizon of 250 trials, how does it fare against the other algorithms when there are 20 arms? When there are 100 arms? When there are 500 arms? How does this interact with the horizon?"
   ]
  }
 ],
 "metadata": {
  "kernelspec": {
   "display_name": "Python 3",
   "language": "python",
   "name": "python3"
  },
  "language_info": {
   "codemirror_mode": {
    "name": "ipython",
    "version": 3
   },
   "file_extension": ".py",
   "mimetype": "text/x-python",
   "name": "python",
   "nbconvert_exporter": "python",
   "pygments_lexer": "ipython3",
   "version": "3.6.6"
  }
 },
 "nbformat": 4,
 "nbformat_minor": 2
}
