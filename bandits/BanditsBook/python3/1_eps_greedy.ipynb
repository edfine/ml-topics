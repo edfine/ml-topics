{
 "cells": [
  {
   "cell_type": "code",
   "execution_count": 66,
   "metadata": {},
   "outputs": [
    {
     "name": "stdout",
     "output_type": "stream",
     "text": [
      "Collecting ggplot\n",
      "\u001b[?25l  Downloading https://files.pythonhosted.org/packages/48/04/5c88cc51c6713583f2dc78a5296adb9741505348c323d5875bc976143db2/ggplot-0.11.5-py2.py3-none-any.whl (2.2MB)\n",
      "\u001b[K    100% |████████████████████████████████| 2.2MB 5.3MB/s \n",
      "\u001b[?25hRequirement already satisfied: statsmodels in /anaconda3/envs/macys/lib/python3.6/site-packages (from ggplot) (0.9.0)\n",
      "Requirement already satisfied: patsy>=0.4 in /anaconda3/envs/macys/lib/python3.6/site-packages (from ggplot) (0.5.0)\n",
      "Collecting brewer2mpl (from ggplot)\n",
      "  Downloading https://files.pythonhosted.org/packages/84/57/00c45a199719e617db0875181134fcb3aeef701deae346547ac722eaaf5e/brewer2mpl-1.4.1-py2.py3-none-any.whl\n",
      "Requirement already satisfied: six in /anaconda3/envs/macys/lib/python3.6/site-packages (from ggplot) (1.11.0)\n",
      "Requirement already satisfied: scipy in /anaconda3/envs/macys/lib/python3.6/site-packages (from ggplot) (1.1.0)\n",
      "Requirement already satisfied: matplotlib in /anaconda3/envs/macys/lib/python3.6/site-packages (from ggplot) (3.0.0)\n",
      "Requirement already satisfied: pandas in /anaconda3/envs/macys/lib/python3.6/site-packages (from ggplot) (0.23.4)\n",
      "Requirement already satisfied: cycler in /anaconda3/envs/macys/lib/python3.6/site-packages (from ggplot) (0.10.0)\n",
      "Requirement already satisfied: numpy in /anaconda3/envs/macys/lib/python3.6/site-packages (from ggplot) (1.15.2)\n",
      "Requirement already satisfied: kiwisolver>=1.0.1 in /anaconda3/envs/macys/lib/python3.6/site-packages (from matplotlib->ggplot) (1.0.1)\n",
      "Requirement already satisfied: pyparsing!=2.0.4,!=2.1.2,!=2.1.6,>=2.0.1 in /anaconda3/envs/macys/lib/python3.6/site-packages (from matplotlib->ggplot) (2.2.2)\n",
      "Requirement already satisfied: python-dateutil>=2.1 in /anaconda3/envs/macys/lib/python3.6/site-packages (from matplotlib->ggplot) (2.7.3)\n",
      "Requirement already satisfied: pytz>=2011k in /anaconda3/envs/macys/lib/python3.6/site-packages (from pandas->ggplot) (2018.5)\n",
      "Requirement already satisfied: setuptools in /anaconda3/envs/macys/lib/python3.6/site-packages (from kiwisolver>=1.0.1->matplotlib->ggplot) (40.4.3)\n",
      "Installing collected packages: brewer2mpl, ggplot\n",
      "Successfully installed brewer2mpl-1.4.1 ggplot-0.11.5\n"
     ]
    }
   ],
   "source": [
    "!pip install ggplot"
   ]
  },
  {
   "cell_type": "code",
   "execution_count": 56,
   "metadata": {},
   "outputs": [],
   "source": [
    "exec(compile(open(\"core.py\").read(), \"core.py\", 'exec'))\n",
    "ndraws = 20"
   ]
  },
  {
   "cell_type": "code",
   "execution_count": 57,
   "metadata": {},
   "outputs": [
    {
     "data": {
      "text/plain": [
       "0.0"
      ]
     },
     "execution_count": 57,
     "metadata": {},
     "output_type": "execute_result"
    }
   ],
   "source": [
    "arm1 = BernoulliArm(0.7)\n",
    "arm1.draw()"
   ]
  },
  {
   "cell_type": "code",
   "execution_count": 58,
   "metadata": {},
   "outputs": [
    {
     "data": {
      "text/plain": [
       "[1.0,\n",
       " 0.0,\n",
       " 1.0,\n",
       " 1.0,\n",
       " 0.0,\n",
       " 1.0,\n",
       " 0.0,\n",
       " 1.0,\n",
       " 0.0,\n",
       " 1.0,\n",
       " 1.0,\n",
       " 1.0,\n",
       " 1.0,\n",
       " 0.0,\n",
       " 1.0,\n",
       " 0.0,\n",
       " 1.0,\n",
       " 1.0,\n",
       " 0.0,\n",
       " 0.0]"
      ]
     },
     "execution_count": 58,
     "metadata": {},
     "output_type": "execute_result"
    }
   ],
   "source": [
    "[arm1.draw() for i in range(ndraws)]"
   ]
  },
  {
   "cell_type": "code",
   "execution_count": 59,
   "metadata": {},
   "outputs": [
    {
     "data": {
      "text/plain": [
       "8.615889059698747"
      ]
     },
     "execution_count": 59,
     "metadata": {},
     "output_type": "execute_result"
    }
   ],
   "source": [
    "arm2 = NormalArm(10.0, 1.0)\n",
    "arm2.draw()"
   ]
  },
  {
   "cell_type": "code",
   "execution_count": 60,
   "metadata": {},
   "outputs": [
    {
     "data": {
      "text/plain": [
       "[12.800584185424032,\n",
       " 9.057874352722017,\n",
       " 10.48704545511951,\n",
       " 9.05962949948348,\n",
       " 8.978203905361752,\n",
       " 11.090617448063504,\n",
       " 10.503767460165061,\n",
       " 10.14545989813825,\n",
       " 9.25046812781953,\n",
       " 8.657782641676544,\n",
       " 13.01422568441128,\n",
       " 11.197950029655246,\n",
       " 9.349788225271219,\n",
       " 11.27808514098864,\n",
       " 9.927554283706401,\n",
       " 8.899948889949986,\n",
       " 8.340606735046418,\n",
       " 10.571567497200407,\n",
       " 9.933788038964382,\n",
       " 7.846554580272956]"
      ]
     },
     "execution_count": 60,
     "metadata": {},
     "output_type": "execute_result"
    }
   ],
   "source": [
    "[arm2.draw() for i in range(ndraws)]"
   ]
  },
  {
   "cell_type": "code",
   "execution_count": 44,
   "metadata": {},
   "outputs": [
    {
     "data": {
      "text/plain": [
       "0.0"
      ]
     },
     "execution_count": 44,
     "metadata": {},
     "output_type": "execute_result"
    }
   ],
   "source": [
    "arm3 = BernoulliArm(0.2)\n",
    "arm3.draw()"
   ]
  },
  {
   "cell_type": "code",
   "execution_count": 61,
   "metadata": {},
   "outputs": [
    {
     "data": {
      "text/plain": [
       "[1.0,\n",
       " 0.0,\n",
       " 1.0,\n",
       " 1.0,\n",
       " 0.0,\n",
       " 0.0,\n",
       " 0.0,\n",
       " 1.0,\n",
       " 0.0,\n",
       " 0.0,\n",
       " 1.0,\n",
       " 0.0,\n",
       " 1.0,\n",
       " 1.0,\n",
       " 0.0,\n",
       " 0.0,\n",
       " 0.0,\n",
       " 0.0,\n",
       " 0.0,\n",
       " 0.0]"
      ]
     },
     "execution_count": 61,
     "metadata": {},
     "output_type": "execute_result"
    }
   ],
   "source": [
    "[arm3.draw() for i in range(ndraws)]"
   ]
  },
  {
   "cell_type": "code",
   "execution_count": 62,
   "metadata": {},
   "outputs": [
    {
     "data": {
      "text/plain": [
       "3"
      ]
     },
     "execution_count": 62,
     "metadata": {},
     "output_type": "execute_result"
    }
   ],
   "source": [
    "arms = [arm1, arm2, arm3]\n",
    "n_arms = len(arms)\n",
    "n_arms"
   ]
  },
  {
   "cell_type": "markdown",
   "metadata": {},
   "source": [
    "Now test and make plots."
   ]
  },
  {
   "cell_type": "code",
   "execution_count": 90,
   "metadata": {},
   "outputs": [
    {
     "name": "stdout",
     "output_type": "stream",
     "text": [
      "Best arm is 2\n"
     ]
    }
   ],
   "source": [
    "exec(compile(open(\"core.py\").read(), \"core.py\", 'exec'))\n",
    "import random\n",
    "import pandas as pd\n",
    "import seaborn as sns\n",
    "\n",
    "random.seed(1)\n",
    "means = [0.1, 0.1, 0.1, 0.1, 0.9]\n",
    "n_arms = len(means)\n",
    "random.shuffle(means)\n",
    "arms = [BernoulliArm(mu) for mu in means]\n",
    "print((\"Best arm is \" + str(ind_max(means))))\n",
    "\n",
    "epsilons = [0.1, 0.2, 0.3, 0.4, 0.5]\n",
    "cumulative_rewards = {}\n",
    "\n",
    "for epsilon in epsilons:\n",
    "  algo = EpsilonGreedy(epsilon, [], [])\n",
    "  algo.initialize(n_arms)\n",
    "  ind = str(epsilon)\n",
    "  [_,_,_,_, cumulative_rewards[ind]] = test_algorithm(algo, arms, 1, 250)\n",
    "\n",
    "resultsDf = pd.DataFrame(cumulative_rewards)\n"
   ]
  },
  {
   "cell_type": "code",
   "execution_count": 91,
   "metadata": {},
   "outputs": [
    {
     "data": {
      "text/plain": [
       "Text(0.5, 1.0, 'Cumulative Reward of Different Algorithms')"
      ]
     },
     "execution_count": 91,
     "metadata": {},
     "output_type": "execute_result"
    },
    {
     "data": {
      "image/png": "[encoded data removed]",
      "text/plain": [
       "<Figure size 432x288 with 1 Axes>"
      ]
     },
     "metadata": {},
     "output_type": "display_data"
    }
   ],
   "source": [
    "sns.set(style=\"whitegrid\")\n",
    "ax = sns.lineplot(data=resultsDf)\n",
    "ax.set_title(\"Cumulative Reward of Different Algorithms\")"
   ]
  },
  {
   "cell_type": "code",
   "execution_count": 92,
   "metadata": {},
   "outputs": [],
   "source": [
    "algo1 = EpsilonGreedy(0.1, [], [])\n",
    "algo1 = EpsilonGreedy(0.1, [], [])\n",
    "algo2 = Softmax(1.0, [], [])\n",
    "algo3 = UCB1([], [])\n",
    "algo4 = Exp3(0.2, [])\n",
    "\n",
    "algos = [algo1, algo2, algo3, algo4]"
   ]
  },
  {
   "cell_type": "code",
   "execution_count": 93,
   "metadata": {},
   "outputs": [],
   "source": [
    "for algo in algos:\n",
    "  algo.initialize(n_arms)"
   ]
  },
  {
   "cell_type": "code",
   "execution_count": 94,
   "metadata": {},
   "outputs": [],
   "source": [
    "for t in range(1000):\n",
    "  for algo in algos:\n",
    "    chosen_arm = algo.select_arm()\n",
    "    reward = arms[chosen_arm].draw()\n",
    "    algo.update(chosen_arm, reward)"
   ]
  },
  {
   "cell_type": "code",
   "execution_count": 95,
   "metadata": {},
   "outputs": [
    {
     "data": {
      "text/plain": [
       "[0.15,\n",
       " 0.055555555555555566,\n",
       " 0.8939732142857137,\n",
       " 0.08333333333333333,\n",
       " 0.09090909090909093]"
      ]
     },
     "execution_count": 95,
     "metadata": {},
     "output_type": "execute_result"
    }
   ],
   "source": [
    "algo1.counts\n",
    "algo1.values"
   ]
  },
  {
   "cell_type": "code",
   "execution_count": 96,
   "metadata": {},
   "outputs": [
    {
     "data": {
      "text/plain": [
       "[0.08125,\n",
       " 0.11333333333333338,\n",
       " 0.8948863636363631,\n",
       " 0.08974358974358976,\n",
       " 0.08241758241758246]"
      ]
     },
     "execution_count": 96,
     "metadata": {},
     "output_type": "execute_result"
    }
   ],
   "source": [
    "algo2.counts\n",
    "algo2.values"
   ]
  },
  {
   "cell_type": "code",
   "execution_count": 97,
   "metadata": {},
   "outputs": [
    {
     "data": {
      "text/plain": [
       "[0.1578947368421053, 0.11111111111111113, 0.8949079089924147, 0.0625, 0.25]"
      ]
     },
     "execution_count": 97,
     "metadata": {},
     "output_type": "execute_result"
    }
   ],
   "source": [
    "algo3.counts\n",
    "algo3.values"
   ]
  },
  {
   "cell_type": "code",
   "execution_count": 98,
   "metadata": {},
   "outputs": [
    {
     "data": {
      "text/plain": [
       "[29.354986079719907,\n",
       " 7147.5456435228625,\n",
       " 3202731910002706.5,\n",
       " 1275.2272986617143,\n",
       " 67.64228946871579]"
      ]
     },
     "execution_count": 98,
     "metadata": {},
     "output_type": "execute_result"
    }
   ],
   "source": [
    "algo4.weights"
   ]
  },
  {
   "cell_type": "code",
   "execution_count": 100,
   "metadata": {},
   "outputs": [],
   "source": [
    "num_sims = 1000\n",
    "horizon = 10\n",
    "results = test_algorithm(algo1, arms, num_sims, horizon)\n",
    "#results"
   ]
  },
  {
   "cell_type": "markdown",
   "metadata": {},
   "source": [
    "Exercise: \n",
    "Try running multiple simulations.\n",
    "Can you plot how the probability of choosing the right arm changes over time?"
   ]
  },
  {
   "cell_type": "code",
   "execution_count": null,
   "metadata": {},
   "outputs": [],
   "source": []
  }
 ],
 "metadata": {
  "kernelspec": {
   "display_name": "Python 3",
   "language": "python",
   "name": "python3"
  },
  "language_info": {
   "codemirror_mode": {
    "name": "ipython",
    "version": 3
   },
   "file_extension": ".py",
   "mimetype": "text/x-python",
   "name": "python",
   "nbconvert_exporter": "python",
   "pygments_lexer": "ipython3",
   "version": "3.6.6"
  }
 },
 "nbformat": 4,
 "nbformat_minor": 2
}
